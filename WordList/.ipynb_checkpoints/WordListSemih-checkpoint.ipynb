{
 "cells": [
  {
   "cell_type": "code",
   "execution_count": 18,
   "metadata": {},
   "outputs": [
    {
     "name": "stdout",
     "output_type": "stream",
     "text": [
      "A computer is a device that processes dataaccording to a set of instructions knownas a program\n",
      "['A', 'computer', 'is', 'a', 'device', 'that', 'processes', 'dataaccording', 'to', 'a', 'set', 'of', 'instructions', 'knownas', 'a', 'program']\n"
     ]
    }
   ],
   "source": [
    "trial_sample= \"A computer is a device that processes dataaccording to a set of instructions knownas a program\"\n",
    "trial_sample1=trial_sample.replace(\",\",\"\")\n",
    "trial_sample2=trial_sample1.replace(\".\",\"\")\n",
    "last_clean=trial_sample2.split()\n",
    "print(trial_sample2)\n",
    "print(last_clean)\n",
    "\n",
    "\n"
   ]
  },
  {
   "cell_type": "code",
   "execution_count": 19,
   "metadata": {},
   "outputs": [
    {
     "name": "stdout",
     "output_type": "stream",
     "text": [
      "a\n",
      "comput\n",
      "is\n",
      "a\n",
      "devic\n",
      "that\n",
      "process\n",
      "dataaccord\n",
      "to\n",
      "a\n",
      "set\n",
      "of\n",
      "instruct\n",
      "knowna\n",
      "a\n",
      "program\n"
     ]
    }
   ],
   "source": [
    "from nltk.stem.snowball import SnowballStemmer\n",
    "\n",
    "for i in last_clean:\n",
    "    stemmer = SnowballStemmer(\"english\")\n",
    "    print(stemmer.stem(i))\n",
    "    "
   ]
  },
  {
   "cell_type": "code",
   "execution_count": 17,
   "metadata": {},
   "outputs": [
    {
     "name": "stdout",
     "output_type": "stream",
     "text": [
      "Computer UsersINTRODUCTIONA computer is a device that processes dataaccording to a set of instructions knownas a program\n"
     ]
    }
   ],
   "source": [
    "file=open(\"Computer Reading.txt\",\"r\",encoding=\"utf-8\")\n",
    "icerik = file.read()\n",
    "icerik_birlestir= icerik.replace(\"\\n\",\"\")\n",
    "cumle_ayir=icerik_birlestir.split(\".\")\n",
    "print(cumle_ayir[0])"
   ]
  },
  {
   "cell_type": "code",
   "execution_count": 20,
   "metadata": {},
   "outputs": [
    {
     "name": "stdout",
     "output_type": "stream",
     "text": [
      "Computer\n",
      "UsersINTRODUCTIONA\n",
      "computer\n",
      "is\n",
      "a\n",
      "device\n",
      "that\n",
      "processes\n",
      "dataaccording\n",
      "to\n",
      "a\n",
      "set\n",
      "of\n",
      "instructions\n",
      "knownas\n",
      "a\n",
      "program\n"
     ]
    }
   ],
   "source": [
    "#Başka bir kütüphane eklendi. Ancak yine de en iyi çalışan kütütphane NLTK STEM kütüphanesi. \n",
    "import spacy\n",
    "sp=spacy.load('en_core_web_sm')\n",
    "sentence = sp(cumle_ayir[0])\n",
    "for word in sentence:\n",
    "    print(word.text)\n",
    "file.close()"
   ]
  },
  {
   "cell_type": "code",
   "execution_count": null,
   "metadata": {},
   "outputs": [],
   "source": []
  }
 ],
 "metadata": {
  "kernelspec": {
   "display_name": "Python 3 (ipykernel)",
   "language": "python",
   "name": "python3"
  },
  "language_info": {
   "codemirror_mode": {
    "name": "ipython",
    "version": 3
   },
   "file_extension": ".py",
   "mimetype": "text/x-python",
   "name": "python",
   "nbconvert_exporter": "python",
   "pygments_lexer": "ipython3",
   "version": "3.9.12"
  }
 },
 "nbformat": 4,
 "nbformat_minor": 2
}
