{
 "cells": [
  {
   "cell_type": "code",
   "execution_count": 18,
   "metadata": {},
   "outputs": [
    {
     "name": "stdout",
     "output_type": "stream",
     "text": [
      "A computer is a device that processes dataaccording to a set of instructions knownas a program\n",
      "['A', 'computer', 'is', 'a', 'device', 'that', 'processes', 'dataaccording', 'to', 'a', 'set', 'of', 'instructions', 'knownas', 'a', 'program']\n"
     ]
    }
   ],
   "source": [
    "trial_sample= \"A computer is a device that processes dataaccording to a set of instructions knownas a program\"\n",
    "trial_sample1=trial_sample.replace(\",\",\"\")\n",
    "trial_sample2=trial_sample1.replace(\".\",\"\")\n",
    "last_clean=trial_sample2.split()\n",
    "print(trial_sample2)\n",
    "print(last_clean)\n",
    "\n",
    "\n"
   ]
  },
  {
   "cell_type": "code",
   "execution_count": 19,
   "metadata": {},
   "outputs": [
    {
     "name": "stdout",
     "output_type": "stream",
     "text": [
      "a\n",
      "comput\n",
      "is\n",
      "a\n",
      "devic\n",
      "that\n",
      "process\n",
      "dataaccord\n",
      "to\n",
      "a\n",
      "set\n",
      "of\n",
      "instruct\n",
      "knowna\n",
      "a\n",
      "program\n"
     ]
    }
   ],
   "source": [
    "from nltk.stem.snowball import SnowballStemmer\n",
    "\n",
    "for i in last_clean:\n",
    "    stemmer = SnowballStemmer(\"english\")\n",
    "    print(stemmer.stem(i))\n",
    "    "
   ]
  },
  {
   "cell_type": "code",
   "execution_count": null,
   "metadata": {},
   "outputs": [],
   "source": [
    "#Hocam bu aşamada bu txt dosyasından başlıkları silip başka bir txt dosyasına aktardıktan sonra metni düzenleyip devamını da o txt dosyasına aktarırsak metnin düzenli halini elde edebileceğimizi düşünüyorum. \n",
    "file=open(\"Computer Reading.txt\",\"r+\",encoding=\"utf-8) \n",
    "for i in file:\n",
    "    if(i.istitle()==True or i.isupper()==True):\n",
    "        baslik=i\n",
    "        print(baslik)\n",
    "    else:\n",
    "        icerik+=i\n",
    "        for a in icerik:\n",
    "            icerik_birlestir= a.replace(\"\\n\",\"\")\n",
    "            cumle_ayir=icerik_birlestir.split(\".\")\n",
    "            print(a)\n",
    "        \n",
    "        \n",
    "file.close()"
   ]
  },
  {
   "cell_type": "code",
   "execution_count": 20,
   "metadata": {
    "scrolled": false
   },
   "outputs": [
    {
     "name": "stdout",
     "output_type": "stream",
     "text": [
      "Computer\n",
      "UsersINTRODUCTIONA\n",
      "computer\n",
      "is\n",
      "a\n",
      "device\n",
      "that\n",
      "processes\n",
      "dataaccording\n",
      "to\n",
      "a\n",
      "set\n",
      "of\n",
      "instructions\n",
      "knownas\n",
      "a\n",
      "program\n"
     ]
    }
   ],
   "source": [
    "#Başka bir kütüphane eklendi. Ancak yine de en iyi çalışan kütütphane NLTK STEM kütüphanesi. \n",
    "import spacy\n",
    "sp=spacy.load('en_core_web_sm')\n",
    "sentence = sp(cumle_ayir[0])\n",
    "for word in sentence:\n",
    "    print(word.text)\n",
    "file.close()"
   ]
  },
  {
   "cell_type": "code",
   "execution_count": null,
   "metadata": {},
   "outputs": [],
   "source": [
    "file=open(\"Computer Reading.txt\",\"r+\",encoding=\"utf-8\")\n",
    "    \n",
    "icerik = file.read()\n",
    "\n",
    "icerik_birlestir= icerik.replace(\"\\n\",\"\")\n",
    "cumle_ayir=icerik_birlestir.split(\".\")\n",
    "print(cumle_ayir[0])\n",
    "file.close()"
   ]
  },
  {
   "cell_type": "code",
   "execution_count": null,
   "metadata": {},
   "outputs": [],
   "source": []
  }
 ],
 "metadata": {
  "kernelspec": {
   "display_name": "Python 3 (ipykernel)",
   "language": "python",
   "name": "python3"
  },
  "language_info": {
   "codemirror_mode": {
    "name": "ipython",
    "version": 3
   },
   "file_extension": ".py",
   "mimetype": "text/x-python",
   "name": "python",
   "nbconvert_exporter": "python",
   "pygments_lexer": "ipython3",
   "version": "3.9.12"
  }
 },
 "nbformat": 4,
 "nbformat_minor": 2
}
