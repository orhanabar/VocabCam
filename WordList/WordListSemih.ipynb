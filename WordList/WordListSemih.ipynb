{
 "cells": [
  {
   "cell_type": "code",
   "execution_count": 8,
   "metadata": {},
   "outputs": [
    {
     "name": "stdout",
     "output_type": "stream",
     "text": [
      "Today is Monday I had a probability and statistics class today\n",
      "['Today', 'is', 'Monday', 'I', 'had', 'a', 'probability', 'and', 'statistics', 'class', 'today']\n"
     ]
    }
   ],
   "source": [
    "trial_sample= \"Today is Monday. I had a probability and statistics class today.\"\n",
    "trial_sample1=trial_sample.replace(\",\",\"\")\n",
    "trial_sample2=trial_sample1.replace(\".\",\"\")\n",
    "last_clean=trial_sample2.split()\n",
    "print(trial_sample2)\n",
    "print(last_clean)\n",
    "\n",
    "\n"
   ]
  },
  {
   "cell_type": "code",
   "execution_count": 9,
   "metadata": {},
   "outputs": [
    {
     "name": "stdout",
     "output_type": "stream",
     "text": [
      "today\n",
      "is\n",
      "monday\n",
      "i\n",
      "had\n",
      "a\n",
      "probabl\n",
      "and\n",
      "statist\n",
      "class\n",
      "today\n"
     ]
    }
   ],
   "source": [
    "from nltk.stem.snowball import SnowballStemmer\n",
    "\n",
    "for i in last_clean:\n",
    "    stemmer = SnowballStemmer(\"english\")\n",
    "    print(stemmer.stem(i))\n",
    "    "
   ]
  },
  {
   "cell_type": "code",
   "execution_count": 16,
   "metadata": {},
   "outputs": [
    {
     "name": "stdout",
     "output_type": "stream",
     "text": [
      "Computer UsersINTRODUCTIONA computer is a device that processes dataaccording to a set of instructions knownas a program\n"
     ]
    }
   ],
   "source": [
    "with open(\"Computer Reading.txt\",\"r\",encoding=\"utf-8\") as file:\n",
    "    \n",
    "    icerik = file.read()\n",
    "    icerik_birlestir= icerik.replace(\"\\n\",\"\")\n",
    "    cumle_ayir=icerik_birlestir.split(\".\")\n",
    "    print(cumle_ayir[0])"
   ]
  },
  {
   "cell_type": "code",
   "execution_count": null,
   "metadata": {},
   "outputs": [],
   "source": []
  }
 ],
 "metadata": {
  "kernelspec": {
   "display_name": "Python 3 (ipykernel)",
   "language": "python",
   "name": "python3"
  },
  "language_info": {
   "codemirror_mode": {
    "name": "ipython",
    "version": 3
   },
   "file_extension": ".py",
   "mimetype": "text/x-python",
   "name": "python",
   "nbconvert_exporter": "python",
   "pygments_lexer": "ipython3",
   "version": "3.9.12"
  }
 },
 "nbformat": 4,
 "nbformat_minor": 2
}
