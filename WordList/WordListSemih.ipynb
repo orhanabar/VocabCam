{
 "cells": [
  {
   "cell_type": "code",
   "execution_count": 18,
   "metadata": {},
   "outputs": [
    {
     "name": "stdout",
     "output_type": "stream",
     "text": [
      "A computer is a device that processes dataaccording to a set of instructions knownas a program\n",
      "['A', 'computer', 'is', 'a', 'device', 'that', 'processes', 'dataaccording', 'to', 'a', 'set', 'of', 'instructions', 'knownas', 'a', 'program']\n"
     ]
    }
   ],
   "source": [
    "trial_sample= \"A computer is a device that processes dataaccording to a set of instructions knownas a program\"\n",
    "trial_sample1=trial_sample.replace(\",\",\"\")\n",
    "trial_sample2=trial_sample1.replace(\".\",\"\")\n",
    "last_clean=trial_sample2.split()\n",
    "print(trial_sample2)\n",
    "print(last_clean)\n",
    "\n",
    "\n"
   ]
  },
  {
   "cell_type": "code",
   "execution_count": 19,
   "metadata": {},
   "outputs": [
    {
     "name": "stdout",
     "output_type": "stream",
     "text": [
      "a\n",
      "comput\n",
      "is\n",
      "a\n",
      "devic\n",
      "that\n",
      "process\n",
      "dataaccord\n",
      "to\n",
      "a\n",
      "set\n",
      "of\n",
      "instruct\n",
      "knowna\n",
      "a\n",
      "program\n"
     ]
    }
   ],
   "source": [
    "from nltk.stem.snowball import SnowballStemmer\n",
    "\n",
    "for i in last_clean:\n",
    "    stemmer = SnowballStemmer(\"english\")\n",
    "    print(stemmer.stem(i))\n",
    "    "
   ]
  },
  {
   "cell_type": "code",
   "execution_count": 4,
   "metadata": {},
   "outputs": [
    {
     "name": "stdout",
     "output_type": "stream",
     "text": [
      "Computer UsersINTRODUCTIONA computer is a device that processes dataaccording to a set of instructions knownas a program\n"
     ]
    }
   ],
   "source": [
    "file=open(\"Computer Reading.txt\",\"r+\",encoding=\"utf-8\")\n",
    "    \n",
    "icerik = file.read()\n",
    "\n",
    "icerik_birlestir= icerik.replace(\"\\n\",\"\")\n",
    "cumle_ayir=icerik_birlestir.split(\".\")\n",
    "print(cumle_ayir[0])\n",
    "file.close()"
   ]
  },
  {
   "cell_type": "code",
   "execution_count": 125,
   "metadata": {},
   "outputs": [],
   "source": [
    "with open(\"Computer Reading.txt\",\"r+\",encoding=\"utf-8\") as file:\n",
    "    liste= file.readlines()\n",
    "    liste2=[]\n",
    "    liste3= liste[2].split()\n",
    "    \n",
    "    for i in liste:\n",
    "        if(i.isupper()==True or (i.istitle()==True)):\n",
    "            liste2.append(\"\\n\")\n",
    "        else:\n",
    "            liste2.append(i)\n",
    "with open(\"Computer Reading Son.txt\",\"a\",encoding=\"utf-8\") as file1:\n",
    "    for i in liste2:\n",
    "        file1.write(i)\n"
   ]
  },
  {
   "cell_type": "code",
   "execution_count": 19,
   "metadata": {},
   "outputs": [],
   "source": [
    "#String punctaution metodu kullanılabilir. \n",
    "with open(\"Computer Reading Son.txt\",\"r\",encoding=\"utf-8\") as file:   \n",
    "    icerik= file.read()\n",
    "    bosluk_sil= icerik.replace(\"\\n\",\" \")\n",
    "    nokta_sil=bosluk_sil.replace(\".\",\" \")\n",
    "    sagparantez_sil=nokta_sil.replace(\")\",\" \")\n",
    "    solparantez_sil=sagparantez_sil.replace(\"(\",\" \")\n",
    "    virgul_sil=solparantez_sil.replace(\",\",\" \")\n",
    "    noktalivirgul_sil=virgul_sil.replace(\";\",\" \")\n",
    "    unlem_sil=noktalivirgul_sil.replace(\"!\",\" \")\n",
    "    cızgı_sil=unlem_sil.replace(\"|\",\" \")\n",
    "    suslupsa_sil=cızgı_sil.replace(\"{\",\" \")\n",
    "    suslupso_sil=suslupsa_sil.replace(\"}\",\" \")\n",
    "    bosluk_sil=suslupso_sil.replace(\"       \",\" \")\n",
    "    strip_sil=bosluk_sil.strip()\n",
    "    son_hal=strip_sil.split()\n",
    "    x= set(son_hal)\n",
    "    son_list=list(x)\n",
    "    \n",
    "    "
   ]
  },
  {
   "cell_type": "code",
   "execution_count": 15,
   "metadata": {},
   "outputs": [],
   "source": [
    "from nltk.stem.snowball import SnowballStemmer\n",
    "stem_list=[]\n",
    "for i in son_list:\n",
    "    stemmer = SnowballStemmer(\"english\")\n",
    "    stem_list.append(stemmer.stem(i))\n",
    "    "
   ]
  },
  {
   "cell_type": "code",
   "execution_count": 18,
   "metadata": {},
   "outputs": [
    {
     "data": {
      "text/html": [
       "<div>\n",
       "<style scoped>\n",
       "    .dataframe tbody tr th:only-of-type {\n",
       "        vertical-align: middle;\n",
       "    }\n",
       "\n",
       "    .dataframe tbody tr th {\n",
       "        vertical-align: top;\n",
       "    }\n",
       "\n",
       "    .dataframe thead th {\n",
       "        text-align: right;\n",
       "    }\n",
       "</style>\n",
       "<table border=\"1\" class=\"dataframe\">\n",
       "  <thead>\n",
       "    <tr style=\"text-align: right;\">\n",
       "      <th></th>\n",
       "      <th>Key</th>\n",
       "      <th>Value</th>\n",
       "    </tr>\n",
       "  </thead>\n",
       "  <tbody>\n",
       "    <tr>\n",
       "      <th>0</th>\n",
       "      <td>photographs</td>\n",
       "      <td>photograph</td>\n",
       "    </tr>\n",
       "    <tr>\n",
       "      <th>1</th>\n",
       "      <td>expansion</td>\n",
       "      <td>expans</td>\n",
       "    </tr>\n",
       "    <tr>\n",
       "      <th>2</th>\n",
       "      <td>Cat’</td>\n",
       "      <td>cat</td>\n",
       "    </tr>\n",
       "    <tr>\n",
       "      <th>3</th>\n",
       "      <td>operating</td>\n",
       "      <td>oper</td>\n",
       "    </tr>\n",
       "    <tr>\n",
       "      <th>4</th>\n",
       "      <td>personal</td>\n",
       "      <td>person</td>\n",
       "    </tr>\n",
       "    <tr>\n",
       "      <th>...</th>\n",
       "      <td>...</td>\n",
       "      <td>...</td>\n",
       "    </tr>\n",
       "    <tr>\n",
       "      <th>430</th>\n",
       "      <td>able</td>\n",
       "      <td>abl</td>\n",
       "    </tr>\n",
       "    <tr>\n",
       "      <th>431</th>\n",
       "      <td>sometimes</td>\n",
       "      <td>sometim</td>\n",
       "    </tr>\n",
       "    <tr>\n",
       "      <th>432</th>\n",
       "      <td>known</td>\n",
       "      <td>known</td>\n",
       "    </tr>\n",
       "    <tr>\n",
       "      <th>433</th>\n",
       "      <td>remove</td>\n",
       "      <td>remov</td>\n",
       "    </tr>\n",
       "    <tr>\n",
       "      <th>434</th>\n",
       "      <td>They</td>\n",
       "      <td>they</td>\n",
       "    </tr>\n",
       "  </tbody>\n",
       "</table>\n",
       "<p>435 rows × 2 columns</p>\n",
       "</div>"
      ],
      "text/plain": [
       "             Key       Value\n",
       "0    photographs  photograph\n",
       "1      expansion      expans\n",
       "2           Cat’         cat\n",
       "3      operating        oper\n",
       "4       personal      person\n",
       "..           ...         ...\n",
       "430         able         abl\n",
       "431    sometimes     sometim\n",
       "432        known       known\n",
       "433       remove       remov\n",
       "434         They        they\n",
       "\n",
       "[435 rows x 2 columns]"
      ]
     },
     "execution_count": 18,
     "metadata": {},
     "output_type": "execute_result"
    }
   ],
   "source": [
    "import pandas as pd\n",
    "dict = {\"Key\":son_list,\"Value\":stem_list}\n",
    "df= pd.DataFrame(dict)\n",
    "df.to_csv(\"Computer Reading Processing.csv\")\n",
    "df"
   ]
  },
  {
   "cell_type": "code",
   "execution_count": null,
   "metadata": {},
   "outputs": [],
   "source": []
  },
  {
   "cell_type": "code",
   "execution_count": null,
   "metadata": {},
   "outputs": [],
   "source": []
  },
  {
   "cell_type": "code",
   "execution_count": null,
   "metadata": {},
   "outputs": [],
   "source": []
  },
  {
   "cell_type": "code",
   "execution_count": null,
   "metadata": {},
   "outputs": [],
   "source": []
  },
  {
   "cell_type": "code",
   "execution_count": 3,
   "metadata": {},
   "outputs": [],
   "source": []
  },
  {
   "cell_type": "code",
   "execution_count": null,
   "metadata": {},
   "outputs": [],
   "source": []
  }
 ],
 "metadata": {
  "kernelspec": {
   "display_name": "Python 3 (ipykernel)",
   "language": "python",
   "name": "python3"
  },
  "language_info": {
   "codemirror_mode": {
    "name": "ipython",
    "version": 3
   },
   "file_extension": ".py",
   "mimetype": "text/x-python",
   "name": "python",
   "nbconvert_exporter": "python",
   "pygments_lexer": "ipython3",
   "version": "3.9.12"
  },
  "vscode": {
   "interpreter": {
    "hash": "e9707c37b537b8f1292233dc6feb5c509e35d3b05cc9ac3d024c9f2e2c6a9134"
   }
  }
 },
 "nbformat": 4,
 "nbformat_minor": 2
}
